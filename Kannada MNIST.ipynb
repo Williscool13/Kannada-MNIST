{
 "cells": [
  {
   "cell_type": "code",
   "execution_count": 2,
   "metadata": {},
   "outputs": [],
   "source": [
    "import pandas as pd\n",
    "df = pd.read_csv('train.csv')\n",
    "training_labels = df['label'].to_numpy()\n",
    "df = df.drop('label', axis = 1)\n",
    "\n",
    "\n",
    "df_test = pd.read_csv('test.csv')\n",
    "test_id = df_test['id']\n",
    "df_test = df_test.drop('id', axis=1)\n"
   ]
  },
  {
   "cell_type": "code",
   "execution_count": 3,
   "metadata": {},
   "outputs": [],
   "source": [
    "training_images = df.to_numpy().reshape(df.shape[0],28,28,1)\n",
    "training_images = training_images / 255.0\n",
    "\n",
    "test_images = df_test.to_numpy().reshape(df_test.shape[0],28,28,1)\n",
    "test_images = test_images / 255.0"
   ]
  },
  {
   "cell_type": "code",
   "execution_count": 4,
   "metadata": {},
   "outputs": [],
   "source": [
    "import tensorflow as tf\n"
   ]
  },
  {
   "cell_type": "code",
   "execution_count": 5,
   "metadata": {},
   "outputs": [],
   "source": [
    "class myCallback(tf.keras.callbacks.Callback):\n",
    "    def on_epoch_end(self, epoch, logs={}):\n",
    "        if(logs.get('acc')>0.998):\n",
    "            print(\"\\nReached 99.8% accuracy so cancelling training!\")\n",
    "            self.model.stop_training = True\n",
    "\n",
    "#callbacks = myCallback()"
   ]
  },
  {
   "cell_type": "code",
   "execution_count": 7,
   "metadata": {},
   "outputs": [
    {
     "name": "stdout",
     "output_type": "stream",
     "text": [
      "Train on 60000 samples\n",
      "Epoch 1/10\n",
      "60000/60000 [==============================] - 14s 239us/sample - loss: 0.0901 - accuracy: 0.9729\n",
      "Epoch 2/10\n",
      "60000/60000 [==============================] - 14s 235us/sample - loss: 0.0280 - accuracy: 0.9916\n",
      "Epoch 3/10\n",
      "60000/60000 [==============================] - 15s 248us/sample - loss: 0.0195 - accuracy: 0.9938\n",
      "Epoch 4/10\n",
      "60000/60000 [==============================] - 15s 248us/sample - loss: 0.0144 - accuracy: 0.9951\n",
      "Epoch 5/10\n",
      "60000/60000 [==============================] - 15s 246us/sample - loss: 0.0116 - accuracy: 0.9963\n",
      "Epoch 6/10\n",
      "60000/60000 [==============================] - 23s 387us/sample - loss: 0.0091 - accuracy: 0.9970\n",
      "Epoch 7/10\n",
      "60000/60000 [==============================] - 17s 277us/sample - loss: 0.0080 - accuracy: 0.9974\n",
      "Epoch 8/10\n",
      "60000/60000 [==============================] - 16s 267us/sample - loss: 0.0056 - accuracy: 0.9980\n",
      "Epoch 9/10\n",
      "60000/60000 [==============================] - 16s 268us/sample - loss: 0.0063 - accuracy: 0.9979\n",
      "Epoch 10/10\n",
      "60000/60000 [==============================] - 17s 280us/sample - loss: 0.0057 - accuracy: 0.9981\n"
     ]
    },
    {
     "data": {
      "text/plain": [
       "<tensorflow.python.keras.callbacks.History at 0x7fe39852af60>"
      ]
     },
     "execution_count": 7,
     "metadata": {},
     "output_type": "execute_result"
    }
   ],
   "source": [
    "model = tf.keras.models.Sequential([\n",
    "    tf.keras.layers.Conv2D(16, (3,3), activation='relu', input_shape=(28, 28, 1)),\n",
    "    tf.keras.layers.MaxPooling2D(2, 2),\n",
    "    tf.keras.layers.Conv2D(32, (3,3), activation='relu'),\n",
    "    tf.keras.layers.MaxPooling2D(2, 2),\n",
    "    tf.keras.layers.Flatten(),\n",
    "    tf.keras.layers.Dense(512, activation='relu'),\n",
    "    tf.keras.layers.Dense(10, activation='softmax')\n",
    "])\n",
    "model.compile(optimizer='adam', loss='sparse_categorical_crossentropy', metrics=['accuracy'])\n",
    "model.fit(training_images, training_labels, epochs=10)"
   ]
  },
  {
   "cell_type": "code",
   "execution_count": null,
   "metadata": {},
   "outputs": [],
   "source": []
  }
 ],
 "metadata": {
  "kernelspec": {
   "display_name": "Python 3",
   "language": "python",
   "name": "python3"
  },
  "language_info": {
   "codemirror_mode": {
    "name": "ipython",
    "version": 3
   },
   "file_extension": ".py",
   "mimetype": "text/x-python",
   "name": "python",
   "nbconvert_exporter": "python",
   "pygments_lexer": "ipython3",
   "version": "3.6.8"
  }
 },
 "nbformat": 4,
 "nbformat_minor": 2
}
